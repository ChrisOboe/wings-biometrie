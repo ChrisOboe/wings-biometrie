{
 "cells": [
  {
   "cell_type": "code",
   "execution_count": 1,
   "id": "4cb0d7df",
   "metadata": {},
   "outputs": [],
   "source": [
    "# EXECUTE THIS BLOCK FIRST FOR INITIALISATION!\n",
    "\n",
    "# dependencies\n",
    "# ==========\n",
    "# jupyter_server_mathjax\n",
    "# ipywidget\n",
    "# ipysheet\n",
    "# matplotlib\n",
    "\n",
    "from ipywidgets import interactive,widgets\n",
    "from IPython.display import display,Math,HTML\n",
    "from matplotlib import pyplot\n",
    "import ipysheet\n",
    "from ipysheet import calculation\n",
    "import math\n",
    "import decimal\n",
    "import pandas"
   ]
  },
  {
   "cell_type": "markdown",
   "id": "d64a9252",
   "metadata": {},
   "source": [
    "# Definitionen\n",
    "\n",
    "## Begriffe\n",
    "\n",
    "False-Non-Match: 2 Samples der gleichen Person werden nicht erkannt\n",
    "\n",
    "False-Match: 2 Samples unterschiedlicher Personen werden als eine Person erkannt\n",
    "\n",
    "Match-Score: Schwellwert zur Erkennung eines biometrischen Merkmals. Ist der Berechnete Wert größer als der Schwellenwert wird das Sample akzeptiert.\n",
    "\n",
    "Verifikation: 1:1 Vergleich mit 1 Referenz (Bist du wirklich der richtige?)\n",
    "\n",
    "Identifikation: 1:N Vergleich mit N Referenzen (Bist du schon im System?)\n",
    "\n",
    "## Kennzahlen\n",
    "False-Match-Rate (FMR): Anteil fälschlicherweise erkannter Personen/biometrischer Merkmale (Falschübereinstimmung)\n",
    "\n",
    "False-Non-Match-Rate (FNMR): Anteil fälschlicherweise nicht erkannter Personen/biometrisches Merkmale (Falschzurückweisung)\n",
    "\n",
    "Equal-Error-Rate: optimaler Schwellwert zwischen FAR/FRR\n",
    "\n",
    "ZeroFAR: alle Unbereechtigten werden abgewiesen\n",
    "\n",
    "ZeroFRR: alle möglichen Kanidaten werden akzeptiert\n",
    "\n",
    "## Anforderungen\n",
    "- inhaltlich\n",
    "    - Universalität\n",
    "    - Einzigartigkeit / Einmaligkeit\n",
    "    - Konstanz\n",
    "    - Erfassbarkeit / Messbarkeit\n",
    "- technisch\n",
    "    - Performanz\n",
    "    - Akzeptanz\n",
    "    - Anwenderfreundlichkeit\n",
    "    - Fälschungssicher und Überwindungsresistenz"
   ]
  },
  {
   "cell_type": "markdown",
   "id": "c77f0cd9-2e07-432f-a1b7-1a7c0cb16917",
   "metadata": {},
   "source": [
    "# Genuine Vergleiche"
   ]
  },
  {
   "cell_type": "markdown",
   "id": "e597c3b3-744c-4f84-bd0b-814ec9e55fc9",
   "metadata": {},
   "source": [
    "## Formel\n",
    "\n",
    "$N$: Anzahl der Personen\n",
    "\n",
    "$t$: Anzahl der Samples des gleichen biometrischen Merkmals\n",
    "\n",
    "$N\\cdot\\frac{t\\cdot(t-1)}{2}$"
   ]
  },
  {
   "cell_type": "code",
   "execution_count": 2,
   "id": "99fe7c7f",
   "metadata": {},
   "outputs": [
    {
     "data": {
      "application/vnd.jupyter.widget-view+json": {
       "model_id": "4824e6caadee4254bece311d5f3cf4bd",
       "version_major": 2,
       "version_minor": 0
      },
      "text/plain": [
       "interactive(children=(IntText(value=4, description='N:'), IntText(value=5, description='t:'), Output()), _dom_…"
      ]
     },
     "metadata": {},
     "output_type": "display_data"
    }
   ],
   "source": [
    "def r(n,t):\n",
    "    genuine = n*(t*(t-1))/2\n",
    "    display(Math(str(n)+'\\cdot \\\\frac{'+str(t) +'\\cdot('+str(t) +'-1)}{2}=' + str(genuine)))\n",
    "    return genuine\n",
    "\n",
    "w = interactive(r, n=widgets.IntText(value=4, description=\"N:\"),t=widgets.IntText(value=5, description=\"t:\"))\n",
    "display(w)"
   ]
  },
  {
   "cell_type": "markdown",
   "id": "67393700-141c-40f8-b49c-569e4120678d",
   "metadata": {},
   "source": [
    "# Imposter Vergleiche"
   ]
  },
  {
   "cell_type": "markdown",
   "id": "1a0bbcdc-8555-4e1a-82c8-9a2cfe38f2b6",
   "metadata": {},
   "source": [
    "## Formel\n",
    "\n",
    "$N$: Anzahl der Personen\n",
    "\n",
    "$t$: Anzahl der Samples des gleichen biometrischen Merkmals\n",
    "\n",
    "$\\frac{N\\cdot(N-1)}{2}\\cdot t^2$"
   ]
  },
  {
   "cell_type": "code",
   "execution_count": 3,
   "id": "57192aae-a827-4337-b29a-32b0833d3917",
   "metadata": {},
   "outputs": [
    {
     "data": {
      "application/vnd.jupyter.widget-view+json": {
       "model_id": "b8994edcb1a348e99ad0e9c34831e8a7",
       "version_major": 2,
       "version_minor": 0
      },
      "text/plain": [
       "interactive(children=(IntText(value=4, description='n'), IntText(value=5, description='t'), Output()), _dom_cl…"
      ]
     },
     "metadata": {},
     "output_type": "display_data"
    }
   ],
   "source": [
    "def r(n,t):\n",
    "    imposter = ((n*(n-1))/2)*t**2\n",
    "    display(Math('\\\\frac{'+str(n) + '\\cdot(' + str(n) + '-1)}{2}\\cdot '+str(t)+'^2 =' +str(imposter)))\n",
    "    return imposter\n",
    "\n",
    "w = interactive(r, n=widgets.IntText(value=4),t=widgets.IntText(value=5))\n",
    "display(w)"
   ]
  },
  {
   "cell_type": "markdown",
   "id": "c0ea63f6-7186-4b34-a21d-af84adab5777",
   "metadata": {},
   "source": [
    "# FPIR (FMR$_N$)"
   ]
  },
  {
   "cell_type": "markdown",
   "id": "67751d49-dd48-4f31-bd2d-e32ec3cc785e",
   "metadata": {},
   "source": [
    "## Formel\n",
    "\n",
    "Ein False Positive Identification liegt vor, wenn eine Identitaet aus der Referenzdatenbank zurueckgegeben wird obwohl der Nutzer nicht ins System enrollt wurde.\n",
    "\n",
    "$FPIR=1-(1-FMR_1)^N$\n",
    "\n",
    "$(1-FMR)$: Wahrscheinlichkeit, dass kein Single False Match auftritt\n",
    "\n",
    "$(1-FMR)^N$: Wahrscheinlichkeit, dass kein einziger False Match ueber alle N Sample auftritt"
   ]
  },
  {
   "cell_type": "code",
   "execution_count": 4,
   "id": "4e0ffeb1-69d0-4170-9d95-adadbbf6bf29",
   "metadata": {},
   "outputs": [
    {
     "data": {
      "application/vnd.jupyter.widget-view+json": {
       "model_id": "0277da58a06a4b2aa6d0c1fc3866a4da",
       "version_major": 2,
       "version_minor": 0
      },
      "text/plain": [
       "interactive(children=(FloatText(value=1e-05, description='fmr'), IntText(value=100, description='n'), Output()…"
      ]
     },
     "metadata": {},
     "output_type": "display_data"
    }
   ],
   "source": [
    "def f(fmr,n):\n",
    "    fpir = 1-(1-fmr)**n\n",
    "    display(Math('FPIR=1-(1-' + format(fmr, '.20f').rstrip('0') + ')^{' + str(n) + '}=' + str(fpir)))\n",
    "    return fpir\n",
    "\n",
    "w=interactive(f, fmr=widgets.FloatText(value=0.00001),n=widgets.IntText(value=100))\n",
    "display(w)"
   ]
  },
  {
   "cell_type": "markdown",
   "id": "3a08acb8",
   "metadata": {},
   "source": [
    "## Fehlerratenberechung mit einer Datenbank\n",
    "Das System prüft beispielsweise Zutritte an Hand von N Smaples in einer Datenbank."
   ]
  },
  {
   "cell_type": "code",
   "execution_count": 5,
   "id": "275cb30e",
   "metadata": {},
   "outputs": [
    {
     "data": {
      "application/vnd.jupyter.widget-view+json": {
       "model_id": "7ed8e937b5f34eb68f94fcfc8cd2c44c",
       "version_major": 2,
       "version_minor": 0
      },
      "text/plain": [
       "interactive(children=(IntText(value=100, description='reisende'), FloatText(value=0.09516303438524065, descrip…"
      ]
     },
     "metadata": {},
     "output_type": "display_data"
    }
   ],
   "source": [
    "def rounded(reisende, fpir, nachkommastellen):\n",
    "    exact = reisende*fpir\n",
    "    rounded = round(exact, nachkommastellen)\n",
    "    diff = abs(exact-rounded)\n",
    "    display(Math(str(reisende)+\"\\cdot\" + str(fpir) + \" = \" + str(exact) + \" \\\\approx \" + str(rounded)))\n",
    "    display(\"differenz: \" + str(diff))\n",
    "\n",
    "r=interactive(rounded, reisende=widgets.IntText(value=100),fpir=widgets.FloatText(value=0.09516303438524065),nachkommastellen=widgets.IntSlider(value=1))\n",
    "display(r)"
   ]
  },
  {
   "cell_type": "markdown",
   "id": "4ccf4866-546c-4e13-aa4e-3553053488c2",
   "metadata": {},
   "source": [
    "# DET-Kurven"
   ]
  },
  {
   "cell_type": "markdown",
   "id": "87dc24ec-b3ce-44cf-bf0f-8ddd3a1d96df",
   "metadata": {},
   "source": [
    "## Formel\n",
    "\n",
    "$L=L_1+L_0$: Anzahl der einzelnen Match-Scores $s_i$\n",
    "\n",
    "$L_1$: Anzahl der Samples des gleichen biometrischen Merkmals\n",
    "\n",
    "$L_0$: Anzahl der Samples des gleichen biometrischen Merkmals\n",
    "\n",
    "$FAR(\\eta_j) = \\frac{1}{L_0} \\sum^L_{i=L_1+1} I(s_i >= \\eta_j)$\n",
    "\n",
    "$FRR(\\eta_j) = \\frac{1}{L_1} \\sum^{L_1}_{i=1} I(s_i < \\eta_j)$\n",
    "\n",
    "$I(x) = x ? 1 : 0$"
   ]
  },
  {
   "cell_type": "code",
   "execution_count": 6,
   "id": "202f1082-3c76-4e6d-84ce-ff2f541f291e",
   "metadata": {},
   "outputs": [
    {
     "data": {
      "text/plain": [
       "'Genuine Count = 23'"
      ]
     },
     "metadata": {},
     "output_type": "display_data"
    },
    {
     "data": {
      "text/plain": [
       "'Imposter Count = 21'"
      ]
     },
     "metadata": {},
     "output_type": "display_data"
    },
    {
     "data": {
      "text/plain": [
       "'Total Count = 44'"
      ]
     },
     "metadata": {},
     "output_type": "display_data"
    },
    {
     "data": {
      "text/latex": [
       "$\\displaystyle FAR(0.5)=\\frac{1}{21}\\cdot 21=1.0$"
      ],
      "text/plain": [
       "<IPython.core.display.Math object>"
      ]
     },
     "metadata": {},
     "output_type": "display_data"
    },
    {
     "data": {
      "text/latex": [
       "$\\displaystyle FRR(0.5)=\\frac{1}{23}\\cdot 0=0.0$"
      ],
      "text/plain": [
       "<IPython.core.display.Math object>"
      ]
     },
     "metadata": {},
     "output_type": "display_data"
    },
    {
     "data": {
      "text/latex": [
       "$\\displaystyle FAR(0.6)=\\frac{1}{21}\\cdot 11=0.5238095238095238$"
      ],
      "text/plain": [
       "<IPython.core.display.Math object>"
      ]
     },
     "metadata": {},
     "output_type": "display_data"
    },
    {
     "data": {
      "text/latex": [
       "$\\displaystyle FRR(0.6)=\\frac{1}{23}\\cdot 0=0.0$"
      ],
      "text/plain": [
       "<IPython.core.display.Math object>"
      ]
     },
     "metadata": {},
     "output_type": "display_data"
    },
    {
     "data": {
      "text/latex": [
       "$\\displaystyle FAR(0.7)=\\frac{1}{21}\\cdot 4=0.19047619047619047$"
      ],
      "text/plain": [
       "<IPython.core.display.Math object>"
      ]
     },
     "metadata": {},
     "output_type": "display_data"
    },
    {
     "data": {
      "text/latex": [
       "$\\displaystyle FRR(0.7)=\\frac{1}{23}\\cdot 3=0.13043478260869565$"
      ],
      "text/plain": [
       "<IPython.core.display.Math object>"
      ]
     },
     "metadata": {},
     "output_type": "display_data"
    },
    {
     "data": {
      "text/latex": [
       "$\\displaystyle FAR(0.8)=\\frac{1}{21}\\cdot 0=0.0$"
      ],
      "text/plain": [
       "<IPython.core.display.Math object>"
      ]
     },
     "metadata": {},
     "output_type": "display_data"
    },
    {
     "data": {
      "text/latex": [
       "$\\displaystyle FRR(0.8)=\\frac{1}{23}\\cdot 8=0.34782608695652173$"
      ],
      "text/plain": [
       "<IPython.core.display.Math object>"
      ]
     },
     "metadata": {},
     "output_type": "display_data"
    },
    {
     "data": {
      "text/latex": [
       "$\\displaystyle FAR(0.9)=\\frac{1}{21}\\cdot 0=0.0$"
      ],
      "text/plain": [
       "<IPython.core.display.Math object>"
      ]
     },
     "metadata": {},
     "output_type": "display_data"
    },
    {
     "data": {
      "text/latex": [
       "$\\displaystyle FRR(0.9)=\\frac{1}{23}\\cdot 22=0.9565217391304348$"
      ],
      "text/plain": [
       "<IPython.core.display.Math object>"
      ]
     },
     "metadata": {},
     "output_type": "display_data"
    },
    {
     "data": {
      "text/latex": [
       "$\\displaystyle FAR(1.0)=\\frac{1}{21}\\cdot 0=0.0$"
      ],
      "text/plain": [
       "<IPython.core.display.Math object>"
      ]
     },
     "metadata": {},
     "output_type": "display_data"
    },
    {
     "data": {
      "text/latex": [
       "$\\displaystyle FRR(1.0)=\\frac{1}{23}\\cdot 23=1.0$"
      ],
      "text/plain": [
       "<IPython.core.display.Math object>"
      ]
     },
     "metadata": {},
     "output_type": "display_data"
    },
    {
     "data": {
      "image/png": "[encoded data removed]",
      "text/plain": [
       "<Figure size 432x288 with 1 Axes>"
      ]
     },
     "metadata": {
      "needs_background": "light"
     },
     "output_type": "display_data"
    }
   ],
   "source": [
    "schwellenwerte = [0.5,0.6,0.7,0.8,0.9,1.0]\n",
    "\n",
    "\n",
    "genuine_scores = [\n",
    "    0.84,\n",
    "    0.88,\n",
    "    0.88,\n",
    "    0.8,\n",
    "    0.86,\n",
    "    0.88,\n",
    "    0.83,\n",
    "    0.77,\n",
    "    0.8,\n",
    "    0.83,\n",
    "    0.71,\n",
    "    0.85,\n",
    "    0.88,\n",
    "    0.87,\n",
    "    0.78,\n",
    "    0.75,\n",
    "    0.9,\n",
    "    0.85,\n",
    "    0.87,\n",
    "    0.75,\n",
    "    0.67,\n",
    "    0.69,\n",
    "    0.68\n",
    "]\n",
    "imposter_scores = [\n",
    "    0.64,\n",
    "    0.57,\n",
    "    0.5,\n",
    "    0.66,\n",
    "    0.58,\n",
    "    0.5,\n",
    "    0.51,\n",
    "    0.65,\n",
    "    0.57,\n",
    "    0.57,\n",
    "    0.54,\n",
    "    0.69,\n",
    "    0.68,\n",
    "    0.57,\n",
    "    0.56,\n",
    "    0.62,\n",
    "    0.68,\n",
    "    0.75,\n",
    "    0.73,\n",
    "    0.73,\n",
    "    0.73\n",
    "]\n",
    "\n",
    "display(\"Genuine Count = \" + str(len(genuine_scores)))\n",
    "display(\"Imposter Count = \" + str(len(imposter_scores)))\n",
    "display(\"Total Count = \" + str(len(genuine_scores)+len(imposter_scores)))\n",
    "\n",
    "for nj in schwellenwerte:\n",
    "    # FAR\n",
    "    farCount = 0\n",
    "    for i in imposter_scores:\n",
    "        if i >= nj:\n",
    "            farCount = farCount + 1\n",
    "    far = farCount/len(imposter_scores)\n",
    "    display(Math('FAR('+str(nj)+')=\\\\frac{1}{'+str(len(imposter_scores))+'}\\cdot ' + str(farCount) + '='+str(far)))\n",
    "    \n",
    "    # FRR\n",
    "    frrCount = 0\n",
    "    for i in genuine_scores:\n",
    "        if i < nj:\n",
    "            frrCount = frrCount + 1\n",
    "    frr = frrCount/len(genuine_scores)\n",
    "    display(Math('FRR('+str(nj)+')=\\\\frac{1}{'+str(len(genuine_scores))+'}\\cdot ' + str(frrCount) + '='+str(frr)))\n",
    "    \n",
    "    pyplot.plot(far,frr,'ok-')\n",
    "\n",
    "pyplot.xlabel(\"far\")\n",
    "pyplot.ylabel(\"frr\")\n",
    "pyplot.show()"
   ]
  },
  {
   "cell_type": "markdown",
   "id": "7e80ec8a",
   "metadata": {},
   "source": [
    "# Hamming Distanz / Iriserkennung"
   ]
  },
  {
   "cell_type": "markdown",
   "id": "4461ddd6",
   "metadata": {},
   "source": [
    "## Formel\n",
    "\n",
    "$HD = \\frac{||(C_A \\oplus C_B) \\land M_A \\land M_B||}{||M_A \\land M_B||}$"
   ]
  },
  {
   "cell_type": "code",
   "execution_count": 19,
   "id": "e6be044f",
   "metadata": {},
   "outputs": [
    {
     "data": {
      "application/vnd.jupyter.widget-view+json": {
       "model_id": "bb62a08fbf7648f489003148dc3233cc",
       "version_major": 2,
       "version_minor": 0
      },
      "text/plain": [
       "Sheet(cells=(Cell(column_end=0, column_start=0, row_end=15, row_start=0, squeeze_row=False, type='numeric', va…"
      ]
     },
     "metadata": {},
     "output_type": "display_data"
    }
   ],
   "source": [
    "sheet = ipysheet.sheet(rows=16, columns=7, column_headers=[\"Code A\",\"Code B\", \"Code A ⊻ Code B\", \"Mask A\", \"Mask B\", \"Mask A ∧ Mask B\", \"(Code A ⊻ Code B) ∧ (Mask A ∧ Mask B)\"])\n",
    "\n",
    "codea = ipysheet.column(0,[0,0,0,0,0,0,0,0,0,0,0,0,0,0,0,0])\n",
    "codeb = ipysheet.column(1,[0,0,0,0,0,0,0,0,0,0,0,0,0,0,0,0])\n",
    "col3 = ipysheet.column(2,[0,0,0,0,0,0,0,0,0,0,0,0,0,0,0,0],read_only=True)\n",
    "maska = ipysheet.column(3,[0,0,0,0,0,0,0,0,0,0,0,0,0,0,0,0])\n",
    "maskb = ipysheet.column(4,[0,0,0,0,0,0,0,0,0,0,0,0,0,0,0,0])\n",
    "col6 = ipysheet.column(5,[0,0,0,0,0,0,0,0,0,0,0,0,0,0,0,0],read_only=True)\n",
    "col7 = ipysheet.column(6,[0,0,0,0,0,0,0,0,0,0,0,0,0,0,0,0],read_only=True)\n",
    "\n",
    "@calculation(inputs=[codea, codeb], output=col3)\n",
    "def axorb(a,b):\n",
    "    out =[]\n",
    "    for i in range(len(a)):\n",
    "        out.append(a[i]^b[i])\n",
    "    return out\n",
    "\n",
    "@calculation(inputs=[maska, maskb], output=col6)\n",
    "def aandb(a,b):\n",
    "    out =[]\n",
    "    for i in range(len(a)):\n",
    "        out.append(a[i]&b[i])\n",
    "    return out\n",
    "\n",
    "@calculation(inputs=[col3, col6], output=col7)\n",
    "def hdt(a,b):\n",
    "    out =[]\n",
    "    for i in range(len(a)):\n",
    "        out.append(a[i]&b[i])\n",
    "    return out\n",
    "\n",
    "display(sheet)"
   ]
  },
  {
   "cell_type": "markdown",
   "id": "694b1087",
   "metadata": {},
   "source": [
    "# Multibiometrische Systeme\n",
    "\n",
    "Zur Identifikation einer Person werden unterschiedliche Merkmale kombiniert. Ein Schwellwert entscheidet über Annahme oder Abweisung."
   ]
  },
  {
   "cell_type": "markdown",
   "id": "c56a0a64",
   "metadata": {},
   "source": [
    "## Decision Level Fusion\n",
    "\n",
    "Unterschiedliche Merkmale werden geprüft. Jede Komponente gibt 1 oder 0 zurück. Anschließend Mehrheitsentscheid im System über 0 und 1."
   ]
  },
  {
   "cell_type": "code",
   "execution_count": 8,
   "id": "e858236b",
   "metadata": {},
   "outputs": [
    {
     "data": {
      "text/html": [
       "<div>\n",
       "<style scoped>\n",
       "    .dataframe tbody tr th:only-of-type {\n",
       "        vertical-align: middle;\n",
       "    }\n",
       "\n",
       "    .dataframe tbody tr th {\n",
       "        vertical-align: top;\n",
       "    }\n",
       "\n",
       "    .dataframe thead th {\n",
       "        text-align: right;\n",
       "    }\n",
       "</style>\n",
       "<table border=\"1\" class=\"dataframe\">\n",
       "  <thead>\n",
       "    <tr style=\"text-align: right;\">\n",
       "      <th></th>\n",
       "      <th>0</th>\n",
       "      <th>1</th>\n",
       "      <th>2</th>\n",
       "      <th>3</th>\n",
       "      <th>4</th>\n",
       "      <th>5</th>\n",
       "      <th>6</th>\n",
       "      <th>7</th>\n",
       "    </tr>\n",
       "  </thead>\n",
       "  <tbody>\n",
       "    <tr>\n",
       "      <th>0</th>\n",
       "      <td></td>\n",
       "      <td>0.9</td>\n",
       "      <td>0.7</td>\n",
       "      <td>0.68</td>\n",
       "      <td>0.5</td>\n",
       "      <td></td>\n",
       "      <td></td>\n",
       "      <td></td>\n",
       "    </tr>\n",
       "    <tr>\n",
       "      <th>1</th>\n",
       "      <td>V0</td>\n",
       "      <td>1.0</td>\n",
       "      <td>0.0</td>\n",
       "      <td>0.00</td>\n",
       "      <td>0.0</td>\n",
       "      <td>1.88</td>\n",
       "      <td>0.9</td>\n",
       "      <td>0</td>\n",
       "    </tr>\n",
       "    <tr>\n",
       "      <th>2</th>\n",
       "      <td>V1</td>\n",
       "      <td>0.0</td>\n",
       "      <td>0.0</td>\n",
       "      <td>1.00</td>\n",
       "      <td>0.0</td>\n",
       "      <td>2.1</td>\n",
       "      <td>0.68</td>\n",
       "      <td>0</td>\n",
       "    </tr>\n",
       "    <tr>\n",
       "      <th>3</th>\n",
       "      <td>V2</td>\n",
       "      <td>1.0</td>\n",
       "      <td>1.0</td>\n",
       "      <td>1.00</td>\n",
       "      <td>0.0</td>\n",
       "      <td>0.5</td>\n",
       "      <td>2.28</td>\n",
       "      <td>1</td>\n",
       "    </tr>\n",
       "    <tr>\n",
       "      <th>4</th>\n",
       "      <td>V3</td>\n",
       "      <td>1.0</td>\n",
       "      <td>0.0</td>\n",
       "      <td>1.00</td>\n",
       "      <td>0.0</td>\n",
       "      <td>1.2</td>\n",
       "      <td>1.58</td>\n",
       "      <td>1</td>\n",
       "    </tr>\n",
       "    <tr>\n",
       "      <th>5</th>\n",
       "      <td>V4</td>\n",
       "      <td>1.0</td>\n",
       "      <td>0.0</td>\n",
       "      <td>0.00</td>\n",
       "      <td>1.0</td>\n",
       "      <td>1.38</td>\n",
       "      <td>1.4</td>\n",
       "      <td>1</td>\n",
       "    </tr>\n",
       "  </tbody>\n",
       "</table>\n",
       "</div>"
      ],
      "text/plain": [
       "    0    1    2     3    4     5     6  7\n",
       "0      0.9  0.7  0.68  0.5               \n",
       "1  V0  1.0  0.0  0.00  0.0  1.88   0.9  0\n",
       "2  V1  0.0  0.0  1.00  0.0   2.1  0.68  0\n",
       "3  V2  1.0  1.0  1.00  0.0   0.5  2.28  1\n",
       "4  V3  1.0  0.0  1.00  0.0   1.2  1.58  1\n",
       "5  V4  1.0  0.0  0.00  1.0  1.38   1.4  1"
      ]
     },
     "metadata": {},
     "output_type": "display_data"
    },
    {
     "data": {
      "text/plain": [
       "'Das System akzeptiert das Sample. Ergebnis: 1'"
      ]
     },
     "metadata": {},
     "output_type": "display_data"
    }
   ],
   "source": [
    "matcher_scores = [0.9,0.7,0.68,0.5]\n",
    "\n",
    "sample_matrix = [\n",
    "    [1,0,0,0],\n",
    "    [0,0,1,0],\n",
    "    [1,1,1,0],\n",
    "    [1,0,1,0],\n",
    "    [1,0,0,1]]\n",
    "\n",
    "########################################\n",
    "verification_count = len(sample_matrix)\n",
    "values0 = [0]*verification_count\n",
    "values1 = [0]*verification_count\n",
    "erg = [0]*verification_count\n",
    "sum0 = 0\n",
    "sum1 = 0\n",
    "\n",
    "first_row = [\"\"]\n",
    "for i in matcher_scores:\n",
    "    first_row.append(i)\n",
    "for i in range(3):\n",
    "    first_row.append(\"\")\n",
    "table = [first_row]\n",
    "\n",
    "for i in range(verification_count):\n",
    "    row = [\"V\" + str(i)];\n",
    "    for j in range(len(sample_matrix[i])):\n",
    "        if sample_matrix[i][j] == 0:\n",
    "            values0[i] = values0[i] + matcher_scores[j]\n",
    "        else:\n",
    "            values1[i] = values1[i] + matcher_scores[j]\n",
    "        row.append(sample_matrix[i][j])\n",
    "    if values0[i]>values1[i]:\n",
    "        erg[i] = 0\n",
    "        sum0 = sum0 +1\n",
    "    else:\n",
    "        erg[i] = 1\n",
    "        sum1 = sum1 +1   \n",
    "    row.append(values0[i])\n",
    "    row.append(values1[i])\n",
    "    row.append(erg[i])\n",
    "    table.append(row)\n",
    "\n",
    "d = pandas.DataFrame.from_dict(table)\n",
    "display(d)\n",
    "\n",
    "if sum0 > sum1:\n",
    "    display(\"Das System lehnt ab. Ergebnis: 0\")\n",
    "else:\n",
    "    display(\"Das System akzeptiert das Sample. Ergebnis: 1\")"
   ]
  },
  {
   "cell_type": "markdown",
   "id": "4de7aad8",
   "metadata": {},
   "source": [
    "# Experimentelles"
   ]
  },
  {
   "cell_type": "code",
   "execution_count": 9,
   "id": "71402daf",
   "metadata": {
    "scrolled": false
   },
   "outputs": [
    {
     "data": {
      "application/vnd.jupyter.widget-view+json": {
       "model_id": "9e1ca07dd5e9416b949ddfab7a0f85ca",
       "version_major": 2,
       "version_minor": 0
      },
      "text/plain": [
       "Sheet(cells=(Cell(column_end=0, column_start=0, row_end=5, row_start=0, squeeze_row=False, type='numeric', val…"
      ]
     },
     "metadata": {},
     "output_type": "display_data"
    },
    {
     "data": {
      "text/latex": [
       "$\\displaystyle FAR(0.5)=\\frac{1}{21}\\cdot 21=1.0$"
      ],
      "text/plain": [
       "<IPython.core.display.Math object>"
      ]
     },
     "metadata": {},
     "output_type": "display_data"
    },
    {
     "data": {
      "text/latex": [
       "$\\displaystyle FRR(0.5)=\\frac{1}{23}\\cdot 0=0.0$"
      ],
      "text/plain": [
       "<IPython.core.display.Math object>"
      ]
     },
     "metadata": {},
     "output_type": "display_data"
    },
    {
     "data": {
      "text/latex": [
       "$\\displaystyle FAR(0.6)=\\frac{1}{21}\\cdot 11=0.5238095238095238$"
      ],
      "text/plain": [
       "<IPython.core.display.Math object>"
      ]
     },
     "metadata": {},
     "output_type": "display_data"
    },
    {
     "data": {
      "text/latex": [
       "$\\displaystyle FRR(0.6)=\\frac{1}{23}\\cdot 0=0.0$"
      ],
      "text/plain": [
       "<IPython.core.display.Math object>"
      ]
     },
     "metadata": {},
     "output_type": "display_data"
    },
    {
     "data": {
      "text/latex": [
       "$\\displaystyle FAR(0.7)=\\frac{1}{21}\\cdot 4=0.19047619047619047$"
      ],
      "text/plain": [
       "<IPython.core.display.Math object>"
      ]
     },
     "metadata": {},
     "output_type": "display_data"
    },
    {
     "data": {
      "text/latex": [
       "$\\displaystyle FRR(0.7)=\\frac{1}{23}\\cdot 3=0.13043478260869565$"
      ],
      "text/plain": [
       "<IPython.core.display.Math object>"
      ]
     },
     "metadata": {},
     "output_type": "display_data"
    },
    {
     "data": {
      "text/latex": [
       "$\\displaystyle FAR(0.8)=\\frac{1}{21}\\cdot 0=0.0$"
      ],
      "text/plain": [
       "<IPython.core.display.Math object>"
      ]
     },
     "metadata": {},
     "output_type": "display_data"
    },
    {
     "data": {
      "text/latex": [
       "$\\displaystyle FRR(0.8)=\\frac{1}{23}\\cdot 8=0.34782608695652173$"
      ],
      "text/plain": [
       "<IPython.core.display.Math object>"
      ]
     },
     "metadata": {},
     "output_type": "display_data"
    },
    {
     "data": {
      "text/latex": [
       "$\\displaystyle FAR(0.9)=\\frac{1}{21}\\cdot 0=0.0$"
      ],
      "text/plain": [
       "<IPython.core.display.Math object>"
      ]
     },
     "metadata": {},
     "output_type": "display_data"
    },
    {
     "data": {
      "text/latex": [
       "$\\displaystyle FRR(0.9)=\\frac{1}{23}\\cdot 22=0.9565217391304348$"
      ],
      "text/plain": [
       "<IPython.core.display.Math object>"
      ]
     },
     "metadata": {},
     "output_type": "display_data"
    },
    {
     "data": {
      "text/latex": [
       "$\\displaystyle FAR(1.0)=\\frac{1}{21}\\cdot 0=0.0$"
      ],
      "text/plain": [
       "<IPython.core.display.Math object>"
      ]
     },
     "metadata": {},
     "output_type": "display_data"
    },
    {
     "data": {
      "text/latex": [
       "$\\displaystyle FRR(1.0)=\\frac{1}{23}\\cdot 23=1.0$"
      ],
      "text/plain": [
       "<IPython.core.display.Math object>"
      ]
     },
     "metadata": {},
     "output_type": "display_data"
    },
    {
     "data": {
      "application/vnd.jupyter.widget-view+json": {
       "model_id": "eca9707aba9a4ae4b49d814a017c3159",
       "version_major": 2,
       "version_minor": 0
      },
      "text/plain": [
       "Sheet(cells=(Cell(column_end=0, column_start=0, row_end=0, row_start=0, type='numeric', value=1.0), Cell(colum…"
      ]
     },
     "metadata": {},
     "output_type": "display_data"
    },
    {
     "data": {
      "image/png": "[encoded data removed]",
      "text/plain": [
       "<Figure size 432x288 with 1 Axes>"
      ]
     },
     "metadata": {
      "needs_background": "light"
     },
     "output_type": "display_data"
    }
   ],
   "source": [
    "inputsheet = ipysheet.sheet(rows=40, columns=3, column_headers=[\"Schwellenwerte\",\"Genuine Scores\", \"Imposter Scores\"])\n",
    "schwellenwerte = ipysheet.column(0, [0.5,0.6,0.7,0.8,0.9,1.0])\n",
    "genuine=ipysheet.column(1, [0.84,0.88,0.88,0.8,0.86,0.88,0.83,0.77,0.8,0.83,0.71,0.85,0.88,0.87,0.78,0.75,0.9,0.85,0.87,0.75,0.67,0.69,0.68])\n",
    "imposter=ipysheet.column(2, [0.64,0.57,0.5,0.66,0.58,0.5,0.51,0.65,0.57,0.57,0.54,0.69,0.68,0.57,0.56,0.62,0.68,0.75,0.73,0.73,0.73])\n",
    "\n",
    "dummy = ipysheet.cell(40,0)\n",
    "\n",
    "display(inputsheet)\n",
    "\n",
    "outputsheet = ipysheet.sheet(len(schwellenwerte.value)+1, columns=2, column_headers=[\"far\",\"frr\"], row_headers=[str(a) for a in schwellenwerte.value])\n",
    "\n",
    "@calculation(inputs=[schwellenwerte,genuine,imposter],output=dummy)\n",
    "def calculate(schwellenwerte,genuine,imposter):\n",
    "    genuineCount = len(genuine)\n",
    "    imposterCount = len(imposter)\n",
    "    nr = 0\n",
    "    for nj in schwellenwerte:\n",
    "        # FAR\n",
    "        farCount = 0\n",
    "        for i in imposter:\n",
    "            if i >= nj:\n",
    "                farCount = farCount + 1\n",
    "        far = farCount/imposterCount\n",
    "        ipysheet.cell(nr,0, far)\n",
    "        display(Math('FAR('+str(nj)+')=\\\\frac{1}{'+str(imposterCount)+'}\\cdot ' + str(farCount) + '='+str(far)))\n",
    "\n",
    "        # FRR\n",
    "        frrCount = 0\n",
    "        for i in genuine:\n",
    "            if i < nj:\n",
    "                frrCount = frrCount + 1\n",
    "        frr = frrCount/genuineCount\n",
    "        ipysheet.cell(nr,1, frr)\n",
    "        \n",
    "        nr+=1\n",
    "        display(Math('FRR('+str(nj)+')=\\\\frac{1}{'+str(genuineCount)+'}\\cdot ' + str(frrCount) + '='+str(frr)))\n",
    "        pyplot.plot(far,frr,'ok-')\n",
    "    display(outputsheet)\n",
    "    pyplot.xlabel(\"far\")\n",
    "    pyplot.ylabel(\"frr\")\n",
    "    pyplot.show()\n",
    "\n",
    "\n",
    "\n"
   ]
  },
  {
   "cell_type": "code",
   "execution_count": null,
   "id": "390f7574",
   "metadata": {},
   "outputs": [],
   "source": []
  }
 ],
 "metadata": {
  "kernelspec": {
   "display_name": "Python 3",
   "language": "python",
   "name": "python3"
  },
  "language_info": {
   "codemirror_mode": {
    "name": "ipython",
    "version": 3
   },
   "file_extension": ".py",
   "mimetype": "text/x-python",
   "name": "python",
   "nbconvert_exporter": "python",
   "pygments_lexer": "ipython3",
   "version": "3.9.10"
  }
 },
 "nbformat": 4,
 "nbformat_minor": 5
}
