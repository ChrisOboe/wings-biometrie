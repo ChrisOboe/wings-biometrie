{
 "cells": [
  {
   "cell_type": "markdown",
   "id": "c77f0cd9-2e07-432f-a1b7-1a7c0cb16917",
   "metadata": {},
   "source": [
    "# Genuine Vergleiche"
   ]
  },
  {
   "cell_type": "markdown",
   "id": "e597c3b3-744c-4f84-bd0b-814ec9e55fc9",
   "metadata": {},
   "source": [
    "## Formel\n",
    "\n",
    "$N$: Anzahl der Personen\n",
    "\n",
    "$t$: Anzahl der Samples des gleichen biometrischen Merkmals\n",
    "\n",
    "$N\\cdot\\frac{t\\cdot(t-1)}{2}$"
   ]
  },
  {
   "cell_type": "code",
   "execution_count": 19,
   "id": "b4241b05-3dad-4137-af33-337ca2b19fdc",
   "metadata": {},
   "outputs": [
    {
     "name": "stdin",
     "output_type": "stream",
     "text": [
      "N: 4\n",
      "t: 5\n"
     ]
    },
    {
     "data": {
      "text/latex": [
       "$\\displaystyle 4\\cdot \\frac{5\\cdot(5-1)}{2}=40.0$"
      ],
      "text/plain": [
       "<IPython.core.display.Math object>"
      ]
     },
     "metadata": {},
     "output_type": "display_data"
    }
   ],
   "source": [
    "from IPython.display import Math\n",
    "import math\n",
    "import decimal\n",
    "\n",
    "n = int(input(\"N:\"))\n",
    "t = int(input(\"t:\"))\n",
    "\n",
    "r = n*(t*(t-1))/2\n",
    "\n",
    "display(Math(str(n)+'\\cdot \\\\frac{'+str(t) +'\\cdot('+str(t) +'-1)}{2}=' + str(r)))"
   ]
  },
  {
   "cell_type": "markdown",
   "id": "67393700-141c-40f8-b49c-569e4120678d",
   "metadata": {},
   "source": [
    "# Imposter Vergleiche"
   ]
  },
  {
   "cell_type": "markdown",
   "id": "1a0bbcdc-8555-4e1a-82c8-9a2cfe38f2b6",
   "metadata": {},
   "source": [
    "## Formel\n",
    "\n",
    "$N$: Anzahl der Personen\n",
    "\n",
    "$t$: Anzahl der Samples des gleichen biometrischen Merkmals\n",
    "\n",
    "$\\frac{N\\cdot(N-1)}{2}\\cdot t^2$"
   ]
  },
  {
   "cell_type": "code",
   "execution_count": 32,
   "id": "57192aae-a827-4337-b29a-32b0833d3917",
   "metadata": {},
   "outputs": [
    {
     "name": "stdin",
     "output_type": "stream",
     "text": [
      "N: 4\n",
      "t: 5\n"
     ]
    },
    {
     "data": {
      "text/latex": [
       "$\\displaystyle \\frac{4\\cdot(4-1)}{2}\\cdot 5^2 =150.0$"
      ],
      "text/plain": [
       "<IPython.core.display.Math object>"
      ]
     },
     "metadata": {},
     "output_type": "display_data"
    }
   ],
   "source": [
    "from IPython.display import Math\n",
    "import math\n",
    "import decimal\n",
    "\n",
    "n = int(input(\"N:\"))\n",
    "t = int(input(\"t:\"))\n",
    "\n",
    "r = ((n*(n-1))/2)*t**2\n",
    "\n",
    "display(Math('\\\\frac{'+str(n) + '\\cdot(' + str(n) + '-1)}{2}\\cdot '+str(t)+'^2 =' +str(r)))"
   ]
  },
  {
   "cell_type": "markdown",
   "id": "c0ea63f6-7186-4b34-a21d-af84adab5777",
   "metadata": {},
   "source": [
    "# FPIR (FMR$_N$)"
   ]
  },
  {
   "cell_type": "markdown",
   "id": "67751d49-dd48-4f31-bd2d-e32ec3cc785e",
   "metadata": {},
   "source": [
    "## Formel\n",
    "\n",
    "Ein False Positive Identification liegt vor, wenn eine Identitaet aus der Referenzdatenbank zurueckgegeben wird obwohl der Nutzer nicht ins System enrollt wurde.\n",
    "\n",
    "$FPIR=1-(1-FMR_1)^N$\n",
    "\n",
    "$(1-FMR)$: Wahrscheinlichkeit, dass kein Single False Match auftritt\n",
    "\n",
    "$(1-FMR)^N$: Wahrscheinlichkeit, dass kein einziger False Match ueber alle N Sample auftritt"
   ]
  },
  {
   "cell_type": "code",
   "execution_count": 43,
   "id": "4e0ffeb1-69d0-4170-9d95-adadbbf6bf29",
   "metadata": {},
   "outputs": [
    {
     "name": "stdin",
     "output_type": "stream",
     "text": [
      "FMR (as number, NOT a percentage): 0.00001\n",
      "N: 10000\n"
     ]
    },
    {
     "data": {
      "text/latex": [
       "$\\displaystyle FPIR=1-(1-0.00001)^{10000}=0.09516303438524065$"
      ],
      "text/plain": [
       "<IPython.core.display.Math object>"
      ]
     },
     "metadata": {},
     "output_type": "display_data"
    }
   ],
   "source": [
    "from IPython.display import Math\n",
    "import math\n",
    "import decimal\n",
    "\n",
    "fmr = float(input(\"FMR (as number, NOT a percentage):\"))\n",
    "n = int(input(\"N:\"))\n",
    "\n",
    "fpir = 1-(1-fmr)**n\n",
    "\n",
    "display(Math('FPIR=1-(1-' + format(fmr, '.20f').rstrip('0') + ')^{' + str(n) + '}=' + str(fpir)))"
   ]
  },
  {
   "cell_type": "markdown",
   "id": "4ccf4866-546c-4e13-aa4e-3553053488c2",
   "metadata": {},
   "source": [
    "# DET-Kurven"
   ]
  },
  {
   "cell_type": "markdown",
   "id": "87dc24ec-b3ce-44cf-bf0f-8ddd3a1d96df",
   "metadata": {},
   "source": [
    "## Formel\n",
    "\n",
    "$L=L_1+L_0$: Anzahl der einzelnen Match-Scores $s_i$\n",
    "\n",
    "$L_1$: Anzahl der Samples des gleichen biometrischen Merkmals\n",
    "\n",
    "$L_0$: Anzahl der Samples des gleichen biometrischen Merkmals\n",
    "\n",
    "$FAR(\\eta_j) = \\frac{1}{L_0} \\sum^L_{i=L_1+1} I(s_i >= \\eta_j)$\n",
    "\n",
    "$FRR(\\eta_j) = \\frac{1}{L_1} \\sum^{L_1}_{i=1} I(s_i < \\eta_j)$\n",
    "\n",
    "$I(x) = x ? 1 : 0$"
   ]
  },
  {
   "cell_type": "code",
   "execution_count": 34,
   "id": "202f1082-3c76-4e6d-84ce-ff2f541f291e",
   "metadata": {},
   "outputs": [
    {
     "data": {
      "text/plain": [
       "'Genuine Count = 23'"
      ]
     },
     "metadata": {},
     "output_type": "display_data"
    },
    {
     "data": {
      "text/plain": [
       "'Imposter Count = 21'"
      ]
     },
     "metadata": {},
     "output_type": "display_data"
    },
    {
     "data": {
      "text/plain": [
       "'Total Count = 44'"
      ]
     },
     "metadata": {},
     "output_type": "display_data"
    },
    {
     "data": {
      "text/latex": [
       "$\\displaystyle FAR(0.5)=\\frac{1}{21}\\cdot 21=1.0$"
      ],
      "text/plain": [
       "<IPython.core.display.Math object>"
      ]
     },
     "metadata": {},
     "output_type": "display_data"
    },
    {
     "data": {
      "text/latex": [
       "$\\displaystyle FRR(0.5)=\\frac{1}{23}\\cdot 0=0.0$"
      ],
      "text/plain": [
       "<IPython.core.display.Math object>"
      ]
     },
     "metadata": {},
     "output_type": "display_data"
    },
    {
     "data": {
      "text/latex": [
       "$\\displaystyle FAR(0.6)=\\frac{1}{21}\\cdot 11=0.5238095238095238$"
      ],
      "text/plain": [
       "<IPython.core.display.Math object>"
      ]
     },
     "metadata": {},
     "output_type": "display_data"
    },
    {
     "data": {
      "text/latex": [
       "$\\displaystyle FRR(0.6)=\\frac{1}{23}\\cdot 0=0.0$"
      ],
      "text/plain": [
       "<IPython.core.display.Math object>"
      ]
     },
     "metadata": {},
     "output_type": "display_data"
    },
    {
     "data": {
      "text/latex": [
       "$\\displaystyle FAR(0.7)=\\frac{1}{21}\\cdot 4=0.19047619047619047$"
      ],
      "text/plain": [
       "<IPython.core.display.Math object>"
      ]
     },
     "metadata": {},
     "output_type": "display_data"
    },
    {
     "data": {
      "text/latex": [
       "$\\displaystyle FRR(0.7)=\\frac{1}{23}\\cdot 3=0.13043478260869565$"
      ],
      "text/plain": [
       "<IPython.core.display.Math object>"
      ]
     },
     "metadata": {},
     "output_type": "display_data"
    },
    {
     "data": {
      "text/latex": [
       "$\\displaystyle FAR(0.8)=\\frac{1}{21}\\cdot 0=0.0$"
      ],
      "text/plain": [
       "<IPython.core.display.Math object>"
      ]
     },
     "metadata": {},
     "output_type": "display_data"
    },
    {
     "data": {
      "text/latex": [
       "$\\displaystyle FRR(0.8)=\\frac{1}{23}\\cdot 8=0.34782608695652173$"
      ],
      "text/plain": [
       "<IPython.core.display.Math object>"
      ]
     },
     "metadata": {},
     "output_type": "display_data"
    },
    {
     "data": {
      "text/latex": [
       "$\\displaystyle FAR(0.9)=\\frac{1}{21}\\cdot 0=0.0$"
      ],
      "text/plain": [
       "<IPython.core.display.Math object>"
      ]
     },
     "metadata": {},
     "output_type": "display_data"
    },
    {
     "data": {
      "text/latex": [
       "$\\displaystyle FRR(0.9)=\\frac{1}{23}\\cdot 22=0.9565217391304348$"
      ],
      "text/plain": [
       "<IPython.core.display.Math object>"
      ]
     },
     "metadata": {},
     "output_type": "display_data"
    },
    {
     "data": {
      "text/latex": [
       "$\\displaystyle FAR(1.0)=\\frac{1}{21}\\cdot 0=0.0$"
      ],
      "text/plain": [
       "<IPython.core.display.Math object>"
      ]
     },
     "metadata": {},
     "output_type": "display_data"
    },
    {
     "data": {
      "text/latex": [
       "$\\displaystyle FRR(1.0)=\\frac{1}{23}\\cdot 23=1.0$"
      ],
      "text/plain": [
       "<IPython.core.display.Math object>"
      ]
     },
     "metadata": {},
     "output_type": "display_data"
    },
    {
     "data": {
      "image/png": "[encoded data removed]",
      "text/plain": [
       "<Figure size 432x288 with 1 Axes>"
      ]
     },
     "metadata": {
      "needs_background": "light"
     },
     "output_type": "display_data"
    }
   ],
   "source": [
    "schwellenwerte = [0.5,0.6,0.7,0.8,0.9,1.0]\n",
    "genuine_scores = [\n",
    "    0.84,\n",
    "    0.88,\n",
    "    0.88,\n",
    "    0.8,\n",
    "    0.86,\n",
    "    0.88,\n",
    "    0.83,\n",
    "    0.77,\n",
    "    0.8,\n",
    "    0.83,\n",
    "    0.71,\n",
    "    0.85,\n",
    "    0.88,\n",
    "    0.87,\n",
    "    0.78,\n",
    "    0.75,\n",
    "    0.9,\n",
    "    0.85,\n",
    "    0.87,\n",
    "    0.75,\n",
    "    0.67,\n",
    "    0.69,\n",
    "    0.68\n",
    "]\n",
    "imposter_scores = [\n",
    "    0.64,\n",
    "    0.57,\n",
    "    0.5,\n",
    "    0.66,\n",
    "    0.58,\n",
    "    0.5,\n",
    "    0.51,\n",
    "    0.65,\n",
    "    0.57,\n",
    "    0.57,\n",
    "    0.54,\n",
    "    0.69,\n",
    "    0.68,\n",
    "    0.57,\n",
    "    0.56,\n",
    "    0.62,\n",
    "    0.68,\n",
    "    0.75,\n",
    "    0.73,\n",
    "    0.73,\n",
    "    0.73\n",
    "]\n",
    "\n",
    "from IPython.display import Math\n",
    "from matplotlib import pyplot\n",
    "import math\n",
    "import decimal\n",
    "\n",
    "display(\"Genuine Count = \" + str(len(genuine_scores)))\n",
    "display(\"Imposter Count = \" + str(len(imposter_scores)))\n",
    "display(\"Total Count = \" + str(len(genuine_scores)+len(imposter_scores)))\n",
    "\n",
    "for nj in schwellenwerte:\n",
    "    # FAR\n",
    "    farCount = 0\n",
    "    for i in imposter_scores:\n",
    "        if i >= nj:\n",
    "            farCount = farCount + 1\n",
    "    far = farCount/len(imposter_scores)\n",
    "    display(Math('FAR('+str(nj)+')=\\\\frac{1}{'+str(len(imposter_scores))+'}\\cdot ' + str(farCount) + '='+str(far)))\n",
    "    \n",
    "    # FRR\n",
    "    frrCount = 0\n",
    "    for i in genuine_scores:\n",
    "        if i < nj:\n",
    "            frrCount = frrCount + 1\n",
    "    frr = frrCount/len(genuine_scores)\n",
    "    display(Math('FRR('+str(nj)+')=\\\\frac{1}{'+str(len(genuine_scores))+'}\\cdot ' + str(frrCount) + '='+str(frr)))\n",
    "    \n",
    "    pyplot.plot(far,frr,'ok-')\n",
    "\n",
    "pyplot.xlabel(\"far\")\n",
    "pyplot.ylabel(\"frr\")\n",
    "pyplot.show()"
   ]
  }
 ],
 "metadata": {
  "kernelspec": {
   "display_name": "Python 3",
   "language": "python",
   "name": "python3"
  },
  "language_info": {
   "codemirror_mode": {
    "name": "ipython",
    "version": 3
   },
   "file_extension": ".py",
   "mimetype": "text/x-python",
   "name": "python",
   "nbconvert_exporter": "python",
   "pygments_lexer": "ipython3",
   "version": "3.9.10"
  }
 },
 "nbformat": 4,
 "nbformat_minor": 5
}
